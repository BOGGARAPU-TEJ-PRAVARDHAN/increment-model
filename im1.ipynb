{
  "nbformat": 4,
  "nbformat_minor": 0,
  "metadata": {
    "colab": {
      "provenance": [],
      "authorship_tag": "ABX9TyM/qdjp+Vau8dzrwWpULXKD",
      "include_colab_link": true
    },
    "kernelspec": {
      "name": "python3",
      "display_name": "Python 3"
    },
    "language_info": {
      "name": "python"
    }
  },
  "cells": [
    {
      "cell_type": "markdown",
      "metadata": {
        "id": "view-in-github",
        "colab_type": "text"
      },
      "source": [
        "<a href=\"https://colab.research.google.com/github/BOGGARAPU-TEJ-PRAVARDHAN/increment-model/blob/main/im1.ipynb\" target=\"_parent\"><img src=\"https://colab.research.google.com/assets/colab-badge.svg\" alt=\"Open In Colab\"/></a>"
      ]
    },
    {
      "cell_type": "code",
      "execution_count": 1,
      "metadata": {
        "id": "MyPSOfIwsJ5P"
      },
      "outputs": [],
      "source": [
        "# Increment 1\n",
        "def weather_prediction(temperature, humidity, wind_speed):\n",
        "    prediction = 0.5 * temperature**2 - 0.2 * humidity + 0.1 * wind_speed - 15\n",
        "    return prediction\n"
      ]
    },
    {
      "cell_type": "code",
      "source": [
        "temperature = 20\n",
        "humidity = 60\n",
        "wind_speed = 10\n",
        "prediction = weather_prediction(temperature, humidity, wind_speed)\n",
        "print(\"Weather Prediction:\", prediction)\n"
      ],
      "metadata": {
        "colab": {
          "base_uri": "https://localhost:8080/"
        },
        "id": "bYULrT75sPgH",
        "outputId": "58f69ad7-94e7-4980-ec2e-1ba0750cfb11"
      },
      "execution_count": 2,
      "outputs": [
        {
          "output_type": "stream",
          "name": "stdout",
          "text": [
            "Weather Prediction: 174.0\n"
          ]
        }
      ]
    }
  ]
}